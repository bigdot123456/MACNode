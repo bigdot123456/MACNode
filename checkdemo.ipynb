{
 "cells": [
  {
   "cell_type": "code",
   "execution_count": 1,
   "metadata": {
    "collapsed": true,
    "pycharm": {
     "is_executing": false
    }
   },
   "outputs": [
    {
     "name": "stdout",
     "text": [
      "2020-04-01 19:54:18,613 INFO sqlalchemy.engine.base.Engine SELECT CAST('test plain returns' AS VARCHAR(60)) AS anon_1\n",
      "2020-04-01 19:54:18,614 INFO sqlalchemy.engine.base.Engine ()\n",
      "2020-04-01 19:54:18,615 INFO sqlalchemy.engine.base.Engine SELECT CAST('test unicode returns' AS VARCHAR(60)) AS anon_1\n",
      "2020-04-01 19:54:18,616 INFO sqlalchemy.engine.base.Engine ()\n",
      "2020-04-01 19:54:18,617 INFO sqlalchemy.engine.base.Engine \n",
      "CREATE TABLE users (\n",
      "\tid INTEGER NOT NULL, \n",
      "\tname VARCHAR(40), \n",
      "\temail VARCHAR(120), \n",
      "\tPRIMARY KEY (id)\n",
      ")\n",
      "\n",
      "\n",
      "2020-04-01 19:54:18,618 INFO sqlalchemy.engine.base.Engine ()\n",
      "2020-04-01 19:54:18,620 INFO sqlalchemy.engine.base.Engine COMMIT\n"
     ],
     "output_type": "stream"
    }
   ],
   "source": [
    "import sqlalchemy\n",
    "sqlalchemy.__version__\n",
    "\n",
    "from sqlalchemy import *\n",
    "from sqlalchemy.orm import *\n",
    "engine = create_engine('sqlite:///./sqlalchemy.db', echo=True)  \n",
    "metadata = MetaData(engine) \n",
    "\n",
    "\n",
    "users_table = Table('users', metadata,\n",
    "                    Column('id', Integer, primary_key=True),\n",
    "                    Column('name', String(40)),\n",
    "                    Column('email', String(120)))\n",
    "\n",
    "users_table.create()"
   ]
  }
 ],
 "metadata": {
  "kernelspec": {
   "display_name": "Python 3",
   "language": "python",
   "name": "python3"
  },
  "language_info": {
   "codemirror_mode": {
    "name": "ipython",
    "version": 2
   },
   "file_extension": ".py",
   "mimetype": "text/x-python",
   "name": "python",
   "nbconvert_exporter": "python",
   "pygments_lexer": "ipython2",
   "version": "2.7.6"
  },
  "pycharm": {
   "stem_cell": {
    "cell_type": "raw",
    "source": [],
    "metadata": {
     "collapsed": false
    }
   }
  }
 },
 "nbformat": 4,
 "nbformat_minor": 0
}